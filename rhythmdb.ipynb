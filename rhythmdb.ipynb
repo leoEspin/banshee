{
 "cells": [
  {
   "cell_type": "code",
   "execution_count": 1,
   "id": "b16953bd-c629-4bc4-9f6f-99f3ae6a1147",
   "metadata": {},
   "outputs": [],
   "source": [
    "from lxml import etree"
   ]
  },
  {
   "cell_type": "code",
   "execution_count": 2,
   "id": "5b534fd5-d9eb-4f29-8437-a9b5e89f9e78",
   "metadata": {},
   "outputs": [],
   "source": [
    "tree = etree.parse('rhythmdb.xml')\n",
    "root = tree.getroot()"
   ]
  },
  {
   "cell_type": "code",
   "execution_count": 31,
   "id": "8609ff9d-5574-478d-b9b1-9613941578da",
   "metadata": {},
   "outputs": [
    {
     "data": {
      "text/plain": [
       "1649"
      ]
     },
     "execution_count": 31,
     "metadata": {},
     "output_type": "execute_result"
    }
   ],
   "source": [
    "len(root)"
   ]
  },
  {
   "cell_type": "code",
   "execution_count": 19,
   "id": "baa206c7-f9ad-491e-823b-edfe6b2769d4",
   "metadata": {},
   "outputs": [],
   "source": [
    "types = []\n",
    "for x in root:\n",
    "    types.append(x.get('type'))"
   ]
  },
  {
   "cell_type": "code",
   "execution_count": 20,
   "id": "a76bb959-9d66-4e61-86ca-c266b790bf7a",
   "metadata": {},
   "outputs": [],
   "source": [
    "import pandas as pd\n",
    "tmp = pd.Series(types)"
   ]
  },
  {
   "cell_type": "code",
   "execution_count": 22,
   "id": "12347de5-11ef-45a6-90cd-e0d6ef0ae36f",
   "metadata": {},
   "outputs": [
    {
     "data": {
      "text/plain": [
       "song      1624\n",
       "iradio      19\n",
       "ignore       6\n",
       "dtype: int64"
      ]
     },
     "execution_count": 22,
     "metadata": {},
     "output_type": "execute_result"
    }
   ],
   "source": [
    "tmp.value_counts()"
   ]
  },
  {
   "cell_type": "code",
   "execution_count": 37,
   "id": "34d6c9db-89e7-4231-ba64-809c5baf248d",
   "metadata": {},
   "outputs": [],
   "source": [
    "for x in root:\n",
    "    if x.get(\"type\") == 'song':\n",
    "        song = x\n",
    "        break"
   ]
  },
  {
   "cell_type": "code",
   "execution_count": 36,
   "id": "a9010452-32b4-4e5c-a984-2e170c2e41df",
   "metadata": {},
   "outputs": [
    {
     "data": {
      "text/plain": [
       "[<Element title at 0x7ff691752a80>,\n",
       " <Element genre at 0x7ff691752c80>,\n",
       " <Element artist at 0x7ff691752e00>,\n",
       " <Element album at 0x7ff691752240>,\n",
       " <Element track-number at 0x7ff6917529c0>,\n",
       " <Element disc-number at 0x7ff691752d40>,\n",
       " <Element disc-total at 0x7ff691752140>,\n",
       " <Element duration at 0x7ff6917528c0>,\n",
       " <Element file-size at 0x7ff691752c00>,\n",
       " <Element location at 0x7ff691752dc0>,\n",
       " <Element mtime at 0x7ff691752f00>,\n",
       " <Element first-seen at 0x7ff691752f80>,\n",
       " <Element last-seen at 0x7ff691752d00>,\n",
       " <Element bitrate at 0x7ff6917f0b00>,\n",
       " <Element date at 0x7ff6917f0880>,\n",
       " <Element media-type at 0x7ff6917f0140>,\n",
       " <Element album-artist at 0x7ff6917f0f40>,\n",
       " <Element beats-per-minute at 0x7ff6917f0b40>,\n",
       " <Element composer at 0x7ff6917f0c40>]"
      ]
     },
     "execution_count": 36,
     "metadata": {},
     "output_type": "execute_result"
    }
   ],
   "source": [
    "list(song)"
   ]
  },
  {
   "cell_type": "code",
   "execution_count": 49,
   "id": "9e862ece-f95a-48df-8812-2c4c0768b391",
   "metadata": {},
   "outputs": [
    {
     "data": {
      "text/plain": [
       "'1614364539'"
      ]
     },
     "execution_count": 49,
     "metadata": {},
     "output_type": "execute_result"
    }
   ],
   "source": [
    "list(song)[12].text"
   ]
  },
  {
   "cell_type": "markdown",
   "id": "553bcf43-0ae4-430e-96f6-64abe818d9b1",
   "metadata": {},
   "source": [
    " so both the banshee and rhythmbox dbs use unix timestamps to encode dates. no transformation is needed"
   ]
  },
  {
   "cell_type": "code",
   "execution_count": null,
   "id": "fbda0483-cf73-40e9-94bd-28b02b467653",
   "metadata": {},
   "outputs": [],
   "source": []
  }
 ],
 "metadata": {
  "kernelspec": {
   "display_name": "banshee",
   "language": "python",
   "name": "banshee"
  },
  "language_info": {
   "codemirror_mode": {
    "name": "ipython",
    "version": 3
   },
   "file_extension": ".py",
   "mimetype": "text/x-python",
   "name": "python",
   "nbconvert_exporter": "python",
   "pygments_lexer": "ipython3",
   "version": "3.9.1"
  }
 },
 "nbformat": 4,
 "nbformat_minor": 5
}
